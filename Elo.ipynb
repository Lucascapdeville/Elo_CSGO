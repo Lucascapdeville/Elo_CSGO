{
 "cells": [
  {
   "cell_type": "markdown",
   "metadata": {},
   "source": [
    "# Elo for csgo teams"
   ]
  },
  {
   "cell_type": "code",
   "execution_count": 27,
   "metadata": {},
   "outputs": [],
   "source": [
    "import pandas as pd\n",
    "import math"
   ]
  },
  {
   "cell_type": "code",
   "execution_count": 28,
   "metadata": {},
   "outputs": [],
   "source": [
    "match_history  = pd.read_csv('data/matches.csv',sep = ';')\n",
    "match_history.drop(\"Unnamed: 0\",axis=1,inplace=True)"
   ]
  },
  {
   "cell_type": "code",
   "execution_count": 29,
   "metadata": {},
   "outputs": [
    {
     "data": {
      "text/html": [
       "<div>\n",
       "<style scoped>\n",
       "    .dataframe tbody tr th:only-of-type {\n",
       "        vertical-align: middle;\n",
       "    }\n",
       "\n",
       "    .dataframe tbody tr th {\n",
       "        vertical-align: top;\n",
       "    }\n",
       "\n",
       "    .dataframe thead th {\n",
       "        text-align: right;\n",
       "    }\n",
       "</style>\n",
       "<table border=\"1\" class=\"dataframe\">\n",
       "  <thead>\n",
       "    <tr style=\"text-align: right;\">\n",
       "      <th></th>\n",
       "      <th>Date</th>\n",
       "      <th>Team1</th>\n",
       "      <th>Team2</th>\n",
       "      <th>Map</th>\n",
       "      <th>Event</th>\n",
       "      <th>event_type</th>\n",
       "      <th>event_tier</th>\n",
       "    </tr>\n",
       "  </thead>\n",
       "  <tbody>\n",
       "    <tr>\n",
       "      <th>0</th>\n",
       "      <td>22/12/19</td>\n",
       "      <td>Vitality (16)</td>\n",
       "      <td>MOUZ (9)</td>\n",
       "      <td>nuke  Nuke</td>\n",
       "      <td>EPICENTER 2019</td>\n",
       "      <td>BigEvents</td>\n",
       "      <td>S</td>\n",
       "    </tr>\n",
       "    <tr>\n",
       "      <th>1</th>\n",
       "      <td>22/12/19</td>\n",
       "      <td>Vitality (16)</td>\n",
       "      <td>MOUZ (12)</td>\n",
       "      <td>mrg  Mirage</td>\n",
       "      <td>EPICENTER 2019</td>\n",
       "      <td>BigEvents</td>\n",
       "      <td>S</td>\n",
       "    </tr>\n",
       "    <tr>\n",
       "      <th>2</th>\n",
       "      <td>22/12/19</td>\n",
       "      <td>MOUZ (19)</td>\n",
       "      <td>Vitality (16)</td>\n",
       "      <td>inf  Inferno</td>\n",
       "      <td>EPICENTER 2019</td>\n",
       "      <td>BigEvents</td>\n",
       "      <td>S</td>\n",
       "    </tr>\n",
       "    <tr>\n",
       "      <th>3</th>\n",
       "      <td>22/12/19</td>\n",
       "      <td>MOUZ (16)</td>\n",
       "      <td>Evil Geniuses (14)</td>\n",
       "      <td>ovp  Overpass</td>\n",
       "      <td>EPICENTER 2019</td>\n",
       "      <td>BigEvents</td>\n",
       "      <td>S</td>\n",
       "    </tr>\n",
       "    <tr>\n",
       "      <th>4</th>\n",
       "      <td>22/12/19</td>\n",
       "      <td>MOUZ (16)</td>\n",
       "      <td>Evil Geniuses (12)</td>\n",
       "      <td>trn  Train</td>\n",
       "      <td>EPICENTER 2019</td>\n",
       "      <td>BigEvents</td>\n",
       "      <td>S</td>\n",
       "    </tr>\n",
       "  </tbody>\n",
       "</table>\n",
       "</div>"
      ],
      "text/plain": [
       "       Date          Team1               Team2            Map           Event  \\\n",
       "0  22/12/19  Vitality (16)            MOUZ (9)     nuke  Nuke  EPICENTER 2019   \n",
       "1  22/12/19  Vitality (16)           MOUZ (12)    mrg  Mirage  EPICENTER 2019   \n",
       "2  22/12/19      MOUZ (19)       Vitality (16)   inf  Inferno  EPICENTER 2019   \n",
       "3  22/12/19      MOUZ (16)  Evil Geniuses (14)  ovp  Overpass  EPICENTER 2019   \n",
       "4  22/12/19      MOUZ (16)  Evil Geniuses (12)     trn  Train  EPICENTER 2019   \n",
       "\n",
       "  event_type event_tier  \n",
       "0  BigEvents          S  \n",
       "1  BigEvents          S  \n",
       "2  BigEvents          S  \n",
       "3  BigEvents          S  \n",
       "4  BigEvents          S  "
      ]
     },
     "execution_count": 29,
     "metadata": {},
     "output_type": "execute_result"
    }
   ],
   "source": [
    "match_history.head()"
   ]
  },
  {
   "cell_type": "markdown",
   "metadata": {},
   "source": [
    "## Clean data"
   ]
  },
  {
   "cell_type": "code",
   "execution_count": 30,
   "metadata": {},
   "outputs": [],
   "source": [
    "match_history.rename(columns={'Date':'date', 'Team1':\"team1\", 'Team2':\"team2\", 'Map':\"map\", 'Event':\"event\"},inplace=True)\n",
    "match_history[['team1','s1']] = match_history['team1'].str.split('(',1,expand=True)\n",
    "match_history[['team2','s2']] = match_history['team2'].str.split('(',1,expand=True)\n",
    "match_history['team1'] = match_history['team1'].str.strip()\n",
    "match_history['team2'] = match_history['team2'].str.strip()\n",
    "match_history['s1'] = match_history['s1'].str[:-1]\n",
    "match_history['s2'] = match_history['s2'].str[:-1]\n",
    "match_history['map'] = match_history['map'].str[4:]"
   ]
  },
  {
   "cell_type": "markdown",
   "metadata": {},
   "source": [
    "### Removing duplicates"
   ]
  },
  {
   "cell_type": "code",
   "execution_count": 63,
   "metadata": {},
   "outputs": [],
   "source": [
    "match_history.drop_duplicates(subset=match_history.columns.difference(['event_type']),keep='last',inplace=True)"
   ]
  },
  {
   "cell_type": "markdown",
   "metadata": {},
   "source": [
    "## Change type"
   ]
  },
  {
   "cell_type": "markdown",
   "metadata": {},
   "source": [
    "### Score"
   ]
  },
  {
   "cell_type": "code",
   "execution_count": 31,
   "metadata": {},
   "outputs": [],
   "source": [
    "match_history['s1'] = pd.to_numeric(match_history['s1'])\n",
    "match_history['s2'] = pd.to_numeric(match_history['s2'])"
   ]
  },
  {
   "cell_type": "markdown",
   "metadata": {},
   "source": [
    "### date"
   ]
  },
  {
   "cell_type": "code",
   "execution_count": 32,
   "metadata": {},
   "outputs": [],
   "source": [
    "match_history['date'] = pd.to_datetime(match_history['date'])\n"
   ]
  },
  {
   "cell_type": "markdown",
   "metadata": {},
   "source": [
    "## Adding information for the table"
   ]
  },
  {
   "cell_type": "markdown",
   "metadata": {},
   "source": [
    "## Winner"
   ]
  },
  {
   "cell_type": "code",
   "execution_count": 33,
   "metadata": {},
   "outputs": [],
   "source": [
    "match_history['Winner'] = (match_history['s1'] - match_history['s2']>0)"
   ]
  },
  {
   "cell_type": "markdown",
   "metadata": {},
   "source": [
    "## Elo collumn"
   ]
  },
  {
   "cell_type": "code",
   "execution_count": 34,
   "metadata": {},
   "outputs": [],
   "source": [
    "match_history['elo1'] = None\n",
    "match_history['elo2'] = None"
   ]
  },
  {
   "cell_type": "code",
   "execution_count": 39,
   "metadata": {},
   "outputs": [
    {
     "data": {
      "text/html": [
       "<div>\n",
       "<style scoped>\n",
       "    .dataframe tbody tr th:only-of-type {\n",
       "        vertical-align: middle;\n",
       "    }\n",
       "\n",
       "    .dataframe tbody tr th {\n",
       "        vertical-align: top;\n",
       "    }\n",
       "\n",
       "    .dataframe thead th {\n",
       "        text-align: right;\n",
       "    }\n",
       "</style>\n",
       "<table border=\"1\" class=\"dataframe\">\n",
       "  <thead>\n",
       "    <tr style=\"text-align: right;\">\n",
       "      <th></th>\n",
       "      <th>date</th>\n",
       "      <th>team1</th>\n",
       "      <th>team2</th>\n",
       "      <th>map</th>\n",
       "      <th>event</th>\n",
       "      <th>event_type</th>\n",
       "      <th>event_tier</th>\n",
       "      <th>s1</th>\n",
       "      <th>s2</th>\n",
       "      <th>Winner</th>\n",
       "      <th>elo1</th>\n",
       "      <th>elo2</th>\n",
       "    </tr>\n",
       "  </thead>\n",
       "  <tbody>\n",
       "    <tr>\n",
       "      <th>0</th>\n",
       "      <td>2019-12-22</td>\n",
       "      <td>Vitality</td>\n",
       "      <td>MOUZ</td>\n",
       "      <td>Nuke</td>\n",
       "      <td>EPICENTER 2019</td>\n",
       "      <td>BigEvents</td>\n",
       "      <td>S</td>\n",
       "      <td>16</td>\n",
       "      <td>9</td>\n",
       "      <td>True</td>\n",
       "      <td>None</td>\n",
       "      <td>None</td>\n",
       "    </tr>\n",
       "    <tr>\n",
       "      <th>1</th>\n",
       "      <td>2019-12-22</td>\n",
       "      <td>Vitality</td>\n",
       "      <td>MOUZ</td>\n",
       "      <td>Mirage</td>\n",
       "      <td>EPICENTER 2019</td>\n",
       "      <td>BigEvents</td>\n",
       "      <td>S</td>\n",
       "      <td>16</td>\n",
       "      <td>12</td>\n",
       "      <td>True</td>\n",
       "      <td>None</td>\n",
       "      <td>None</td>\n",
       "    </tr>\n",
       "    <tr>\n",
       "      <th>2</th>\n",
       "      <td>2019-12-22</td>\n",
       "      <td>MOUZ</td>\n",
       "      <td>Vitality</td>\n",
       "      <td>Inferno</td>\n",
       "      <td>EPICENTER 2019</td>\n",
       "      <td>BigEvents</td>\n",
       "      <td>S</td>\n",
       "      <td>19</td>\n",
       "      <td>16</td>\n",
       "      <td>True</td>\n",
       "      <td>None</td>\n",
       "      <td>None</td>\n",
       "    </tr>\n",
       "    <tr>\n",
       "      <th>3</th>\n",
       "      <td>2019-12-22</td>\n",
       "      <td>MOUZ</td>\n",
       "      <td>Evil Geniuses</td>\n",
       "      <td>Overpass</td>\n",
       "      <td>EPICENTER 2019</td>\n",
       "      <td>BigEvents</td>\n",
       "      <td>S</td>\n",
       "      <td>16</td>\n",
       "      <td>14</td>\n",
       "      <td>True</td>\n",
       "      <td>None</td>\n",
       "      <td>None</td>\n",
       "    </tr>\n",
       "    <tr>\n",
       "      <th>4</th>\n",
       "      <td>2019-12-22</td>\n",
       "      <td>MOUZ</td>\n",
       "      <td>Evil Geniuses</td>\n",
       "      <td>Train</td>\n",
       "      <td>EPICENTER 2019</td>\n",
       "      <td>BigEvents</td>\n",
       "      <td>S</td>\n",
       "      <td>16</td>\n",
       "      <td>12</td>\n",
       "      <td>True</td>\n",
       "      <td>None</td>\n",
       "      <td>None</td>\n",
       "    </tr>\n",
       "    <tr>\n",
       "      <th>...</th>\n",
       "      <td>...</td>\n",
       "      <td>...</td>\n",
       "      <td>...</td>\n",
       "      <td>...</td>\n",
       "      <td>...</td>\n",
       "      <td>...</td>\n",
       "      <td>...</td>\n",
       "      <td>...</td>\n",
       "      <td>...</td>\n",
       "      <td>...</td>\n",
       "      <td>...</td>\n",
       "      <td>...</td>\n",
       "    </tr>\n",
       "    <tr>\n",
       "      <th>1086</th>\n",
       "      <td>2019-02-20</td>\n",
       "      <td>AVANGAR</td>\n",
       "      <td>Liquid</td>\n",
       "      <td>Overpass</td>\n",
       "      <td>IEM Katowice 2019</td>\n",
       "      <td>Majors</td>\n",
       "      <td>S</td>\n",
       "      <td>12</td>\n",
       "      <td>16</td>\n",
       "      <td>False</td>\n",
       "      <td>None</td>\n",
       "      <td>None</td>\n",
       "    </tr>\n",
       "    <tr>\n",
       "      <th>1087</th>\n",
       "      <td>2019-02-20</td>\n",
       "      <td>Natus Vincere</td>\n",
       "      <td>G2</td>\n",
       "      <td>Inferno</td>\n",
       "      <td>IEM Katowice 2019</td>\n",
       "      <td>Majors</td>\n",
       "      <td>S</td>\n",
       "      <td>16</td>\n",
       "      <td>7</td>\n",
       "      <td>True</td>\n",
       "      <td>None</td>\n",
       "      <td>None</td>\n",
       "    </tr>\n",
       "    <tr>\n",
       "      <th>1088</th>\n",
       "      <td>2019-02-20</td>\n",
       "      <td>HellRaisers</td>\n",
       "      <td>FaZe</td>\n",
       "      <td>Train</td>\n",
       "      <td>IEM Katowice 2019</td>\n",
       "      <td>Majors</td>\n",
       "      <td>S</td>\n",
       "      <td>4</td>\n",
       "      <td>16</td>\n",
       "      <td>False</td>\n",
       "      <td>None</td>\n",
       "      <td>None</td>\n",
       "    </tr>\n",
       "    <tr>\n",
       "      <th>1089</th>\n",
       "      <td>2019-02-20</td>\n",
       "      <td>ENCE</td>\n",
       "      <td>Renegades</td>\n",
       "      <td>Inferno</td>\n",
       "      <td>IEM Katowice 2019</td>\n",
       "      <td>Majors</td>\n",
       "      <td>S</td>\n",
       "      <td>13</td>\n",
       "      <td>16</td>\n",
       "      <td>False</td>\n",
       "      <td>None</td>\n",
       "      <td>None</td>\n",
       "    </tr>\n",
       "    <tr>\n",
       "      <th>1090</th>\n",
       "      <td>2019-02-20</td>\n",
       "      <td>BIG</td>\n",
       "      <td>Vitality</td>\n",
       "      <td>Mirage</td>\n",
       "      <td>IEM Katowice 2019</td>\n",
       "      <td>Majors</td>\n",
       "      <td>S</td>\n",
       "      <td>11</td>\n",
       "      <td>16</td>\n",
       "      <td>False</td>\n",
       "      <td>None</td>\n",
       "      <td>None</td>\n",
       "    </tr>\n",
       "  </tbody>\n",
       "</table>\n",
       "<p>1091 rows × 12 columns</p>\n",
       "</div>"
      ],
      "text/plain": [
       "           date          team1          team2        map              event  \\\n",
       "0    2019-12-22       Vitality           MOUZ       Nuke     EPICENTER 2019   \n",
       "1    2019-12-22       Vitality           MOUZ     Mirage     EPICENTER 2019   \n",
       "2    2019-12-22           MOUZ       Vitality    Inferno     EPICENTER 2019   \n",
       "3    2019-12-22           MOUZ  Evil Geniuses   Overpass     EPICENTER 2019   \n",
       "4    2019-12-22           MOUZ  Evil Geniuses      Train     EPICENTER 2019   \n",
       "...         ...            ...            ...        ...                ...   \n",
       "1086 2019-02-20        AVANGAR         Liquid   Overpass  IEM Katowice 2019   \n",
       "1087 2019-02-20  Natus Vincere             G2    Inferno  IEM Katowice 2019   \n",
       "1088 2019-02-20    HellRaisers           FaZe      Train  IEM Katowice 2019   \n",
       "1089 2019-02-20           ENCE      Renegades    Inferno  IEM Katowice 2019   \n",
       "1090 2019-02-20            BIG       Vitality     Mirage  IEM Katowice 2019   \n",
       "\n",
       "     event_type event_tier  s1  s2  Winner  elo1  elo2  \n",
       "0     BigEvents          S  16   9    True  None  None  \n",
       "1     BigEvents          S  16  12    True  None  None  \n",
       "2     BigEvents          S  19  16    True  None  None  \n",
       "3     BigEvents          S  16  14    True  None  None  \n",
       "4     BigEvents          S  16  12    True  None  None  \n",
       "...         ...        ...  ..  ..     ...   ...   ...  \n",
       "1086     Majors          S  12  16   False  None  None  \n",
       "1087     Majors          S  16   7    True  None  None  \n",
       "1088     Majors          S   4  16   False  None  None  \n",
       "1089     Majors          S  13  16   False  None  None  \n",
       "1090     Majors          S  11  16   False  None  None  \n",
       "\n",
       "[1091 rows x 12 columns]"
      ]
     },
     "execution_count": 39,
     "metadata": {},
     "output_type": "execute_result"
    }
   ],
   "source": [
    "match_history"
   ]
  },
  {
   "cell_type": "markdown",
   "metadata": {},
   "source": [
    "# Applying elo function"
   ]
  },
  {
   "cell_type": "code",
   "execution_count": 76,
   "metadata": {},
   "outputs": [],
   "source": [
    "#def eloretriver(df,team,date):\n",
    "    #retrive the last elo point from a data frame\n",
    "#    try:\n",
    "#      df[df[date]]\n",
    "\n",
    "\n",
    "\n",
    "def Probwin(rating1,rating2):\n",
    "    # Function to calculate the Probability\n",
    "    return 1.0 * 1.0 / (1 + 1.0 * math.pow(10, 1.0 * (rating1 - rating2) / 400))\n",
    "\n",
    "def EloRatingcalculator(Ra,Rb,k,d):\n",
    "    # If team has no rating the starting rating is 1500(?change)\n",
    "    if Ra is None:\n",
    "        Ra = 1500\n",
    "    elif Rb is None:\n",
    "        Rb = 1500\n",
    "    # Function to calculate Elo rating\n",
    "    # K is a constant.\n",
    "    # d determines whether Player A wins or Player B.\n",
    "    # To calculate the Winning\n",
    "    # Probability of Player B\n",
    "    Pb = Probwin(Ra, Rb)\n",
    " \n",
    "    # To calculate the Winning\n",
    "    # Probability of Player A\n",
    "    Pa = Probwin(Rb, Ra)\n",
    "      # Case -1 When Player A wins\n",
    "    # Updating the Elo Ratings\n",
    "    if (d == 1) :\n",
    "        Ra = Ra + k * (1 - Pa)\n",
    "        Rb = Rb + k * (0 - Pb)\n",
    "    # Case -2 When Player B wins\n",
    "    # Updating the Elo Ratings\n",
    "    else :\n",
    "        Ra = Ra + k * (0 - Pa)\n",
    "        Rb = Rb + k * (1 - Pb)\n",
    "    print(\"Updated Ratings:-\")\n",
    "    print(\"Ra =\", round(Ra, 1),\" Rb =\", round(Rb, 1))\n",
    "    return Ra,Rb"
   ]
  },
  {
   "cell_type": "code",
   "execution_count": 40,
   "metadata": {},
   "outputs": [],
   "source": [
    "match_history.sort_values(by=[\"date\"]).reset_index(drop=True,inplace=True)"
   ]
  },
  {
   "cell_type": "markdown",
   "metadata": {},
   "source": [
    "K-factor  \tUsed for players with ratings ...\n",
    "k=40 for a player new to the rating list until the completion of events with a total of 30 games, and for all players until their 18th birthday, as long as their rating remains under 2300.\n",
    "k=20 \tfor players who have always been rated under 2400.\n",
    "k=10for players with any published rating of at least 2400 and at least 30 games played in previous events. Thereafter it remains permanently at 10.\n",
    "\n",
    "Score after mathces,series or lan torunaments(greater difference for tournaments?? Performance Rating by tournament?)\n",
    "\n",
    "elo starting at what?\n",
    "\n",
    "elo for players?"
   ]
  },
  {
   "cell_type": "code",
   "execution_count": 45,
   "metadata": {},
   "outputs": [
    {
     "name": "stdout",
     "output_type": "stream",
     "text": [
      "Updated Ratings:-\n",
      "Ra = 1528.4  Rb = 1971.6\n"
     ]
    },
    {
     "data": {
      "text/plain": [
       "(1528.4027935439394, 1971.5972064560606)"
      ]
     },
     "execution_count": 45,
     "metadata": {},
     "output_type": "execute_result"
    }
   ],
   "source": [
    "Ra = None\n",
    "Rb = 2000\n",
    "K = 30\n",
    "d = 1\n",
    "EloRatingcalculator(Ra, Rb, K, d)"
   ]
  },
  {
   "cell_type": "code",
   "execution_count": 73,
   "metadata": {},
   "outputs": [
    {
     "data": {
      "text/plain": [
       "True"
      ]
     },
     "execution_count": 73,
     "metadata": {},
     "output_type": "execute_result"
    }
   ],
   "source": [
    "if match_history[(match_history['date']=='2019-02-20')&(match_history['team1'] == 'BIG')].shape[0] > 1:\n",
    "    return match_history[(match_history['date']=='2019-02-20')&(match_history['team1'] == 'BIG')].tail"
   ]
  }
 ],
 "metadata": {
  "kernelspec": {
   "display_name": "Python 3.9.12 ('base')",
   "language": "python",
   "name": "python3"
  },
  "language_info": {
   "codemirror_mode": {
    "name": "ipython",
    "version": 3
   },
   "file_extension": ".py",
   "mimetype": "text/x-python",
   "name": "python",
   "nbconvert_exporter": "python",
   "pygments_lexer": "ipython3",
   "version": "3.9.12"
  },
  "orig_nbformat": 4,
  "vscode": {
   "interpreter": {
    "hash": "1e41d4e4325ce7342a00e57a53d955cd4d4808c2e7826870199a24ef7be9659b"
   }
  }
 },
 "nbformat": 4,
 "nbformat_minor": 2
}
