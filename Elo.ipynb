{
 "cells": [
  {
   "cell_type": "code",
   "execution_count": 3,
   "metadata": {},
   "outputs": [],
   "source": [
    "import pandas as pd\n",
    "import math"
   ]
  },
  {
   "cell_type": "markdown",
   "metadata": {},
   "source": [
    "K-factor  \tUsed for players with ratings ...\n",
    "k=40 for a player new to the rating list until the completion of events with a total of 30 games, and for all players until their 18th birthday, as long as their rating remains under 2300.\n",
    "k=20 \tfor players who have always been rated under 2400.\n",
    "k=10for players with any published rating of at least 2400 and at least 30 games played in previous events. Thereafter it remains permanently at 10.\n",
    "\n",
    "Score after mathces,series or lan torunaments(greater difference for tournaments?? Performance Rating by tournament?)\n",
    "\n",
    "elo starting at what?\n",
    "\n",
    "elo for players?"
   ]
  },
  {
   "cell_type": "markdown",
   "metadata": {},
   "source": [
    "# Elo functions"
   ]
  },
  {
   "cell_type": "code",
   "execution_count": null,
   "metadata": {},
   "outputs": [],
   "source": [
    "def eloretriver(df,team,index):\n",
    "    #retrive the last elo point from a data frame.\n",
    "    last_elo = df[(df['index1'] < index) & ((df['team1'] == team)|(df['team2'] == team))].tail(1)\n",
    "    if len(last_elo) == 0:\n",
    "        return None\n",
    "    elif last_elo['team1'].iloc[0] == team:\n",
    "        print(last_elo['index1'].iloc[0])\n",
    "        return last_elo['elo1'].iloc[0]\n",
    "    elif last_elo['team2'].iloc[0] == team:\n",
    "        print(last_elo['index1'].iloc[0])\n",
    "        return last_elo['elo2'].iloc[0]\n",
    "\n",
    "def Probwin(rating1,rating2):\n",
    "    # Function to calculate the Probability\n",
    "    return 1.0 * 1.0 / (1 + 1.0 * math.pow(10, 1.0 * (rating1 - rating2) / 400))\n",
    "\n",
    "def EloRatingcalculator(df,team1,team2,index1,winner,k):\n",
    "    Ra = eloretriver(df,team1,index1)\n",
    "    Rb = eloretriver(df,team2,index1)\n",
    "    # If team has no rating the starting rating is 1500(?change)\n",
    "    if Ra is None:\n",
    "        Ra = 1500\n",
    "    if Rb is None:\n",
    "        Rb = 1500\n",
    "    # setting k value\n",
    "    if k == 'Online':\n",
    "        k = 5\n",
    "    if k == 'Lan':\n",
    "        k = 10\n",
    "    if k == 'BigEvents':\n",
    "        k = 20\n",
    "    if k == 'Majors':\n",
    "        k = 30\n",
    "    print(k)\n",
    "    # Function to calculate Elo rating\n",
    "    # K is a constant.\n",
    "    # winner determines whether Player A wins or Player B\n",
    "    # To calculate the Winning\n",
    "    # Probability of Player B\n",
    "    print(Ra)\n",
    "    print(Rb)\n",
    "    Pb = Probwin(Ra, Rb)\n",
    "    # To calculate the Winning\n",
    "    # Probability of Player A\n",
    "    Pa = Probwin(Rb, Ra)\n",
    "      # Case -1 When Player A wins\n",
    "    # Updating the Elo Ratings\n",
    "    if (winner == True) :\n",
    "        elo1 = Ra + k * (1 - Pa)\n",
    "        elo2 = Rb + k * (0 - Pb)\n",
    "    # Case -2 When Player B wins\n",
    "    # Updating the Elo Ratings\n",
    "    else :\n",
    "        elo1 = Ra + k * (0 - Pa)\n",
    "        elo2 = Rb + k * (1 - Pb)\n",
    "    print(elo1)\n",
    "    print(elo2)\n",
    "    return pd.Series([round(elo1),round(elo2)])\n",
    "    "
   ]
  },
  {
   "cell_type": "markdown",
   "metadata": {},
   "source": [
    "## Apply functions to a data frame"
   ]
  },
  {
   "cell_type": "code",
   "execution_count": null,
   "metadata": {},
   "outputs": [],
   "source": [
    "mathc_elo = match_history.apply(lambda x : EloRatingcalculator(match_history,x['team1'],x['team2'],x['index1'],x['winner'],x['event_type']),axis=1)"
   ]
  }
 ],
 "metadata": {
  "kernelspec": {
   "display_name": "Python 3.9.12 ('base')",
   "language": "python",
   "name": "python3"
  },
  "language_info": {
   "codemirror_mode": {
    "name": "ipython",
    "version": 3
   },
   "file_extension": ".py",
   "mimetype": "text/x-python",
   "name": "python",
   "nbconvert_exporter": "python",
   "pygments_lexer": "ipython3",
   "version": "3.9.12"
  },
  "orig_nbformat": 4,
  "vscode": {
   "interpreter": {
    "hash": "1e41d4e4325ce7342a00e57a53d955cd4d4808c2e7826870199a24ef7be9659b"
   }
  }
 },
 "nbformat": 4,
 "nbformat_minor": 2
}
