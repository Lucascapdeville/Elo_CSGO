{
 "cells": [
  {
   "cell_type": "code",
   "execution_count": 1,
   "metadata": {},
   "outputs": [],
   "source": [
    "import pandas as pd\n",
    "import math"
   ]
  },
  {
   "cell_type": "code",
   "execution_count": 34,
   "metadata": {},
   "outputs": [],
   "source": [
    "match_history  = pd.read_csv('data/matches.csv',sep = ';')\n",
    "match_history.drop(\"Unnamed: 0\",axis=1,inplace=True)"
   ]
  },
  {
   "cell_type": "code",
   "execution_count": 37,
   "metadata": {},
   "outputs": [
    {
     "data": {
      "text/html": [
       "<div>\n",
       "<style scoped>\n",
       "    .dataframe tbody tr th:only-of-type {\n",
       "        vertical-align: middle;\n",
       "    }\n",
       "\n",
       "    .dataframe tbody tr th {\n",
       "        vertical-align: top;\n",
       "    }\n",
       "\n",
       "    .dataframe thead th {\n",
       "        text-align: right;\n",
       "    }\n",
       "</style>\n",
       "<table border=\"1\" class=\"dataframe\">\n",
       "  <thead>\n",
       "    <tr style=\"text-align: right;\">\n",
       "      <th></th>\n",
       "      <th>date</th>\n",
       "      <th>team1</th>\n",
       "      <th>team2</th>\n",
       "      <th>map</th>\n",
       "      <th>event</th>\n",
       "      <th>event_type</th>\n",
       "      <th>event_tier</th>\n",
       "      <th>s1</th>\n",
       "      <th>s2</th>\n",
       "    </tr>\n",
       "  </thead>\n",
       "  <tbody>\n",
       "    <tr>\n",
       "      <th>0</th>\n",
       "      <td>22/12/19</td>\n",
       "      <td>Vitality</td>\n",
       "      <td>MOUZ</td>\n",
       "      <td>Nuke</td>\n",
       "      <td>EPICENTER 2019</td>\n",
       "      <td>BigEvents</td>\n",
       "      <td>S</td>\n",
       "      <td>16</td>\n",
       "      <td>9</td>\n",
       "    </tr>\n",
       "    <tr>\n",
       "      <th>1</th>\n",
       "      <td>22/12/19</td>\n",
       "      <td>Vitality</td>\n",
       "      <td>MOUZ</td>\n",
       "      <td>Mirage</td>\n",
       "      <td>EPICENTER 2019</td>\n",
       "      <td>BigEvents</td>\n",
       "      <td>S</td>\n",
       "      <td>16</td>\n",
       "      <td>12</td>\n",
       "    </tr>\n",
       "    <tr>\n",
       "      <th>2</th>\n",
       "      <td>22/12/19</td>\n",
       "      <td>MOUZ</td>\n",
       "      <td>Vitality</td>\n",
       "      <td>Inferno</td>\n",
       "      <td>EPICENTER 2019</td>\n",
       "      <td>BigEvents</td>\n",
       "      <td>S</td>\n",
       "      <td>19</td>\n",
       "      <td>16</td>\n",
       "    </tr>\n",
       "    <tr>\n",
       "      <th>3</th>\n",
       "      <td>22/12/19</td>\n",
       "      <td>MOUZ</td>\n",
       "      <td>Evil Geniuses</td>\n",
       "      <td>Overpass</td>\n",
       "      <td>EPICENTER 2019</td>\n",
       "      <td>BigEvents</td>\n",
       "      <td>S</td>\n",
       "      <td>16</td>\n",
       "      <td>14</td>\n",
       "    </tr>\n",
       "    <tr>\n",
       "      <th>4</th>\n",
       "      <td>22/12/19</td>\n",
       "      <td>MOUZ</td>\n",
       "      <td>Evil Geniuses</td>\n",
       "      <td>Train</td>\n",
       "      <td>EPICENTER 2019</td>\n",
       "      <td>BigEvents</td>\n",
       "      <td>S</td>\n",
       "      <td>16</td>\n",
       "      <td>12</td>\n",
       "    </tr>\n",
       "  </tbody>\n",
       "</table>\n",
       "</div>"
      ],
      "text/plain": [
       "       date     team1          team2        map           event event_type  \\\n",
       "0  22/12/19  Vitality           MOUZ       Nuke  EPICENTER 2019  BigEvents   \n",
       "1  22/12/19  Vitality           MOUZ     Mirage  EPICENTER 2019  BigEvents   \n",
       "2  22/12/19      MOUZ       Vitality    Inferno  EPICENTER 2019  BigEvents   \n",
       "3  22/12/19      MOUZ  Evil Geniuses   Overpass  EPICENTER 2019  BigEvents   \n",
       "4  22/12/19      MOUZ  Evil Geniuses      Train  EPICENTER 2019  BigEvents   \n",
       "\n",
       "  event_tier  s1  s2  \n",
       "0          S  16   9  \n",
       "1          S  16  12  \n",
       "2          S  19  16  \n",
       "3          S  16  14  \n",
       "4          S  16  12  "
      ]
     },
     "execution_count": 37,
     "metadata": {},
     "output_type": "execute_result"
    }
   ],
   "source": [
    "match_history.head()"
   ]
  },
  {
   "cell_type": "markdown",
   "metadata": {},
   "source": [
    "## Clean data"
   ]
  },
  {
   "cell_type": "code",
   "execution_count": 36,
   "metadata": {},
   "outputs": [],
   "source": [
    "match_history.rename(columns={'Date':'date', 'Team1':\"team1\", 'Team2':\"team2\", 'Map':\"map\", 'Event':\"event\"},inplace=True)\n",
    "match_history[['team1','s1']] = match_history['team1'].str.split('(',1,expand=True)\n",
    "match_history[['team2','s2']] = match_history['team2'].str.split('(',1,expand=True)\n",
    "match_history['team1'] = match_history['team1'].str.strip()\n",
    "match_history['team2'] = match_history['team2'].str.strip()\n",
    "match_history['s1'] = match_history['s1'].str[:-1]\n",
    "match_history['s2'] = match_history['s2'].str[:-1]\n",
    "match_history['map'] = match_history['map'].str[4:]"
   ]
  },
  {
   "cell_type": "markdown",
   "metadata": {},
   "source": [
    "## Change type"
   ]
  },
  {
   "cell_type": "markdown",
   "metadata": {},
   "source": [
    "### Score"
   ]
  },
  {
   "cell_type": "code",
   "execution_count": 41,
   "metadata": {},
   "outputs": [],
   "source": [
    "match_history['s1'] = pd.to_numeric(match_history['s1'])\n",
    "match_history['s2'] = pd.to_numeric(match_history['s2'])"
   ]
  },
  {
   "cell_type": "markdown",
   "metadata": {},
   "source": [
    "### date"
   ]
  },
  {
   "cell_type": "code",
   "execution_count": 27,
   "metadata": {},
   "outputs": [],
   "source": [
    "match_history['date'] = pd.to_datetime(match_history['date'])\n"
   ]
  },
  {
   "cell_type": "code",
   "execution_count": 28,
   "metadata": {},
   "outputs": [
    {
     "data": {
      "text/plain": [
       "date          datetime64[ns]\n",
       "team1                 object\n",
       "team2                 object\n",
       "map                   object\n",
       "event                 object\n",
       "event_type            object\n",
       "event_tier            object\n",
       "s1                    object\n",
       "s2                    object\n",
       "dtype: object"
      ]
     },
     "execution_count": 28,
     "metadata": {},
     "output_type": "execute_result"
    }
   ],
   "source": [
    "match_history.dtypes\n"
   ]
  },
  {
   "cell_type": "markdown",
   "metadata": {},
   "source": [
    "K-factor  \tUsed for players with ratings ...\n",
    "k=40 for a player new to the rating list until the completion of events with a total of 30 games, and for all players until their 18th birthday, as long as their rating remains under 2300.\n",
    "k=20 \tfor players who have always been rated under 2400.\n",
    "k=10for players with any published rating of at least 2400 and at least 30 games played in previous events. Thereafter it remains permanently at 10.\n",
    "\n",
    "Score after mathces,series or lan torunaments(greater difference for tournaments?? Performance Rating by tournament?)\n",
    "\n",
    "elo starting at what?\n",
    "\n",
    "elo for players?"
   ]
  },
  {
   "cell_type": "code",
   "execution_count": 15,
   "metadata": {},
   "outputs": [],
   "source": [
    "def Probwin(rating1,rating2):\n",
    "    # Function to calculate the Probability\n",
    "    return 1.0 * 1.0 / (1 + 1.0 * math.pow(10, 1.0 * (rating1 - rating2) / 400))\n",
    "\n",
    "def EloRating(Ra,Rb,k,d):\n",
    "    # Function to calculate Elo rating\n",
    "    # K is a constant.\n",
    "    # d determines whether Player A wins or Player B.\n",
    "    # To calculate the Winning\n",
    "    # Probability of Player B\n",
    "    Pb = Probwin(Ra, Rb)\n",
    " \n",
    "    # To calculate the Winning\n",
    "    # Probability of Player A\n",
    "    Pa = Probwin(Rb, Ra)\n",
    "      # Case -1 When Player A wins\n",
    "    # Updating the Elo Ratings\n",
    "    if (d == 1) :\n",
    "        Ra = Ra + k * (1 - Pa)\n",
    "        Rb = Rb + k * (0 - Pb)\n",
    "    # Case -2 When Player B wins\n",
    "    # Updating the Elo Ratings\n",
    "    else :\n",
    "        Ra = Ra + k * (0 - Pa)\n",
    "        Rb = Rb + k * (1 - Pb)\n",
    "    print(\"Updated Ratings:-\")\n",
    "    print(\"Ra =\", round(Ra, 1),\" Rb =\", round(Rb, 1))\n",
    "    return Ra,Rb"
   ]
  },
  {
   "cell_type": "code",
   "execution_count": 16,
   "metadata": {},
   "outputs": [
    {
     "name": "stdout",
     "output_type": "stream",
     "text": [
      "Updated Ratings:-\n",
      "Ra = 1207.2  Rb = 992.8\n"
     ]
    },
    {
     "data": {
      "text/plain": [
       "(1207.2075922005613, 992.7924077994387)"
      ]
     },
     "execution_count": 16,
     "metadata": {},
     "output_type": "execute_result"
    }
   ],
   "source": [
    "Ra = 1200\n",
    "Rb = 1000\n",
    "K = 30\n",
    "d = 1\n",
    "EloRating(Ra, Rb, K, d)"
   ]
  },
  {
   "cell_type": "code",
   "execution_count": 40,
   "metadata": {},
   "outputs": [
    {
     "data": {
      "text/html": [
       "<div>\n",
       "<style scoped>\n",
       "    .dataframe tbody tr th:only-of-type {\n",
       "        vertical-align: middle;\n",
       "    }\n",
       "\n",
       "    .dataframe tbody tr th {\n",
       "        vertical-align: top;\n",
       "    }\n",
       "\n",
       "    .dataframe thead th {\n",
       "        text-align: right;\n",
       "    }\n",
       "</style>\n",
       "<table border=\"1\" class=\"dataframe\">\n",
       "  <thead>\n",
       "    <tr style=\"text-align: right;\">\n",
       "      <th></th>\n",
       "      <th>Date</th>\n",
       "      <th>Team1</th>\n",
       "      <th>Team2</th>\n",
       "      <th>Map</th>\n",
       "      <th>Event</th>\n",
       "      <th>event_type</th>\n",
       "      <th>event_tier</th>\n",
       "    </tr>\n",
       "  </thead>\n",
       "  <tbody>\n",
       "    <tr>\n",
       "      <th>316</th>\n",
       "      <td>1/10/19</td>\n",
       "      <td>Vitality (11)</td>\n",
       "      <td>ENCE (16)</td>\n",
       "      <td>nuke  Nuke</td>\n",
       "      <td>DreamHack Masters Malmö 2019</td>\n",
       "      <td>BigEvents</td>\n",
       "      <td>S</td>\n",
       "    </tr>\n",
       "    <tr>\n",
       "      <th>330</th>\n",
       "      <td>1/10/19</td>\n",
       "      <td>Envy (7)</td>\n",
       "      <td>Astralis (16)</td>\n",
       "      <td>trn  Train</td>\n",
       "      <td>DreamHack Masters Malmö 2019</td>\n",
       "      <td>BigEvents</td>\n",
       "      <td>S</td>\n",
       "    </tr>\n",
       "    <tr>\n",
       "      <th>321</th>\n",
       "      <td>1/10/19</td>\n",
       "      <td>Astralis (16)</td>\n",
       "      <td>G2 (7)</td>\n",
       "      <td>d2  Dust2</td>\n",
       "      <td>DreamHack Masters Malmö 2019</td>\n",
       "      <td>BigEvents</td>\n",
       "      <td>S</td>\n",
       "    </tr>\n",
       "    <tr>\n",
       "      <th>312</th>\n",
       "      <td>1/10/19</td>\n",
       "      <td>fnatic (16)</td>\n",
       "      <td>TYLOO (10)</td>\n",
       "      <td>d2  Dust2</td>\n",
       "      <td>DreamHack Masters Malmö 2019</td>\n",
       "      <td>BigEvents</td>\n",
       "      <td>S</td>\n",
       "    </tr>\n",
       "    <tr>\n",
       "      <th>320</th>\n",
       "      <td>1/10/19</td>\n",
       "      <td>Envy (8)</td>\n",
       "      <td>FURIA (16)</td>\n",
       "      <td>vtg  Vertigo</td>\n",
       "      <td>DreamHack Masters Malmö 2019</td>\n",
       "      <td>BigEvents</td>\n",
       "      <td>S</td>\n",
       "    </tr>\n",
       "    <tr>\n",
       "      <th>...</th>\n",
       "      <td>...</td>\n",
       "      <td>...</td>\n",
       "      <td>...</td>\n",
       "      <td>...</td>\n",
       "      <td>...</td>\n",
       "      <td>...</td>\n",
       "      <td>...</td>\n",
       "    </tr>\n",
       "    <tr>\n",
       "      <th>140</th>\n",
       "      <td>10/11/19</td>\n",
       "      <td>Astralis (16)</td>\n",
       "      <td>100 Thieves (3)</td>\n",
       "      <td>trn  Train</td>\n",
       "      <td>IEM Beijing 2019</td>\n",
       "      <td>BigEvents</td>\n",
       "      <td>S</td>\n",
       "    </tr>\n",
       "    <tr>\n",
       "      <th>698</th>\n",
       "      <td>10/5/19</td>\n",
       "      <td>ENCE (16)</td>\n",
       "      <td>Natus Vincere (4)</td>\n",
       "      <td>mrg  Mirage</td>\n",
       "      <td>BLAST Pro Series Madrid 2019</td>\n",
       "      <td>BigEvents</td>\n",
       "      <td>S</td>\n",
       "    </tr>\n",
       "    <tr>\n",
       "      <th>697</th>\n",
       "      <td>10/5/19</td>\n",
       "      <td>Astralis (16)</td>\n",
       "      <td>Ninjas in Pyjamas (8)</td>\n",
       "      <td>d2  Dust2</td>\n",
       "      <td>BLAST Pro Series Madrid 2019</td>\n",
       "      <td>BigEvents</td>\n",
       "      <td>S</td>\n",
       "    </tr>\n",
       "    <tr>\n",
       "      <th>696</th>\n",
       "      <td>10/5/19</td>\n",
       "      <td>Cloud9 (16)</td>\n",
       "      <td>Giants (14)</td>\n",
       "      <td>d2  Dust2</td>\n",
       "      <td>BLAST Pro Series Madrid 2019</td>\n",
       "      <td>BigEvents</td>\n",
       "      <td>S</td>\n",
       "    </tr>\n",
       "    <tr>\n",
       "      <th>695</th>\n",
       "      <td>10/5/19</td>\n",
       "      <td>Astralis (16)</td>\n",
       "      <td>Giants (7)</td>\n",
       "      <td>nuke  Nuke</td>\n",
       "      <td>BLAST Pro Series Madrid 2019</td>\n",
       "      <td>BigEvents</td>\n",
       "      <td>S</td>\n",
       "    </tr>\n",
       "  </tbody>\n",
       "</table>\n",
       "<p>100 rows × 7 columns</p>\n",
       "</div>"
      ],
      "text/plain": [
       "         Date          Team1                  Team2           Map  \\\n",
       "316   1/10/19  Vitality (11)              ENCE (16)    nuke  Nuke   \n",
       "330   1/10/19       Envy (7)          Astralis (16)    trn  Train   \n",
       "321   1/10/19  Astralis (16)                 G2 (7)     d2  Dust2   \n",
       "312   1/10/19    fnatic (16)             TYLOO (10)     d2  Dust2   \n",
       "320   1/10/19       Envy (8)             FURIA (16)  vtg  Vertigo   \n",
       "..        ...            ...                    ...           ...   \n",
       "140  10/11/19  Astralis (16)        100 Thieves (3)    trn  Train   \n",
       "698   10/5/19      ENCE (16)      Natus Vincere (4)   mrg  Mirage   \n",
       "697   10/5/19  Astralis (16)  Ninjas in Pyjamas (8)     d2  Dust2   \n",
       "696   10/5/19    Cloud9 (16)            Giants (14)     d2  Dust2   \n",
       "695   10/5/19  Astralis (16)             Giants (7)    nuke  Nuke   \n",
       "\n",
       "                            Event event_type event_tier  \n",
       "316  DreamHack Masters Malmö 2019  BigEvents          S  \n",
       "330  DreamHack Masters Malmö 2019  BigEvents          S  \n",
       "321  DreamHack Masters Malmö 2019  BigEvents          S  \n",
       "312  DreamHack Masters Malmö 2019  BigEvents          S  \n",
       "320  DreamHack Masters Malmö 2019  BigEvents          S  \n",
       "..                            ...        ...        ...  \n",
       "140              IEM Beijing 2019  BigEvents          S  \n",
       "698  BLAST Pro Series Madrid 2019  BigEvents          S  \n",
       "697  BLAST Pro Series Madrid 2019  BigEvents          S  \n",
       "696  BLAST Pro Series Madrid 2019  BigEvents          S  \n",
       "695  BLAST Pro Series Madrid 2019  BigEvents          S  \n",
       "\n",
       "[100 rows x 7 columns]"
      ]
     },
     "execution_count": 40,
     "metadata": {},
     "output_type": "execute_result"
    }
   ],
   "source": [
    "match_history.sort_values(by=[\"Date\"]).head(100)"
   ]
  }
 ],
 "metadata": {
  "kernelspec": {
   "display_name": "Python 3.9.12 ('base')",
   "language": "python",
   "name": "python3"
  },
  "language_info": {
   "codemirror_mode": {
    "name": "ipython",
    "version": 3
   },
   "file_extension": ".py",
   "mimetype": "text/x-python",
   "name": "python",
   "nbconvert_exporter": "python",
   "pygments_lexer": "ipython3",
   "version": "3.9.12"
  },
  "orig_nbformat": 4,
  "vscode": {
   "interpreter": {
    "hash": "1e41d4e4325ce7342a00e57a53d955cd4d4808c2e7826870199a24ef7be9659b"
   }
  }
 },
 "nbformat": 4,
 "nbformat_minor": 2
}
